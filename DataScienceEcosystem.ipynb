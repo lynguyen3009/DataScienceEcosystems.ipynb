{
 "cells": [
  {
   "cell_type": "markdown",
   "id": "a063d3b8-cf14-4cf3-a15a-51fcafa178b8",
   "metadata": {},
   "source": [
    "# Data Science Tools and Ecosystem"
   ]
  },
  {
   "cell_type": "markdown",
   "id": "09a8e59d-2640-4bad-8bfd-80efddc57aae",
   "metadata": {},
   "source": [
    "## In this notebook, Data Science Tools and Ecosystem are summarized"
   ]
  },
  {
   "cell_type": "markdown",
   "id": "7ef5eade-0f41-459f-9e00-cae3bc498d16",
   "metadata": {},
   "source": [
    "__Objectives:__\n",
    "+ List popular languages for Data Science\n",
    "+ List popular libraries used by Data Scientists\n",
    "+ Examples of evaluating arithmetic expressions in Python"
   ]
  },
  {
   "cell_type": "markdown",
   "id": "9d694c67-41c1-4eec-bbbe-f984f89ce3db",
   "metadata": {},
   "source": [
    "Some of the popular languages that Data Scientists use are:\n",
    "1. Python\n",
    "2. R\n",
    "3. SQL"
   ]
  },
  {
   "cell_type": "markdown",
   "id": "f065ded7-550b-4d05-b84c-ae908c8fe988",
   "metadata": {},
   "source": [
    "Some of the commonly used libraries used by Data Scientists include:\n",
    "1. Pandas\n",
    "2. PyTorch\n",
    "3. TensorFlow\n",
    "4. Keras\n",
    "5. SciKit_Learn"
   ]
  },
  {
   "cell_type": "markdown",
   "id": "0d55a3a9-7e88-4208-8e80-539ddca263df",
   "metadata": {},
   "source": [
    "|Data Science Tools|\n",
    "--------------------\n",
    "|Apache Spark|\n",
    "|Apache Hadoop|\n",
    "|RStudio|"
   ]
  },
  {
   "cell_type": "markdown",
   "id": "92798bcf-1941-4267-abb5-1ff5dd8eff57",
   "metadata": {},
   "source": [
    "### Below are a few examples of evaluating arithmetic expressions in Python"
   ]
  },
  {
   "cell_type": "code",
   "execution_count": 1,
   "id": "4788b1b9-cf9d-4dc2-a297-b293dec4b32e",
   "metadata": {
    "tags": []
   },
   "outputs": [
    {
     "data": {
      "text/plain": [
       "17"
      ]
     },
     "execution_count": 1,
     "metadata": {},
     "output_type": "execute_result"
    }
   ],
   "source": [
    "# This a simple arithmetic expression to multiply then add integers\n",
    "(3*4)+5"
   ]
  },
  {
   "cell_type": "code",
   "execution_count": 2,
   "id": "d13c94e0-a5df-4f8c-b53c-55859f154211",
   "metadata": {
    "tags": []
   },
   "outputs": [
    {
     "data": {
      "text/plain": [
       "3.3333333333333335"
      ]
     },
     "execution_count": 2,
     "metadata": {},
     "output_type": "execute_result"
    }
   ],
   "source": [
    "# This will convert 200 minutes to hours by dividing by 60\n",
    "200/60\n"
   ]
  },
  {
   "cell_type": "markdown",
   "id": "99799ea3-eeb2-4f13-960f-3521dd98d99b",
   "metadata": {},
   "source": [
    "## Author\n",
    "Ly Thi Huong Nguyen"
   ]
  },
  {
   "cell_type": "markdown",
   "id": "7f74b5a1-996a-4f65-809e-c9432f50022e",
   "metadata": {},
   "source": []
  }
 ],
 "metadata": {
  "kernelspec": {
   "display_name": "Python",
   "language": "python",
   "name": "conda-env-python-py"
  },
  "language_info": {
   "codemirror_mode": {
    "name": "ipython",
    "version": 3
   },
   "file_extension": ".py",
   "mimetype": "text/x-python",
   "name": "python",
   "nbconvert_exporter": "python",
   "pygments_lexer": "ipython3",
   "version": "3.7.12"
  }
 },
 "nbformat": 4,
 "nbformat_minor": 5
}
